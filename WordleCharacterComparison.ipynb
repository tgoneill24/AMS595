{
 "cells": [
  {
   "cell_type": "code",
   "execution_count": 19,
   "id": "387b226b-c084-4d33-adfa-5ce3c77a47a7",
   "metadata": {},
   "outputs": [
    {
     "name": "stdin",
     "output_type": "stream",
     "text": [
      "Guess a five-letter word:  snipe\n"
     ]
    }
   ],
   "source": [
    "actualWord = \"super\"\n",
    "guess = input(\"Guess a five-letter word: \")\n",
    "gylist = ['b','b','b','b','b']"
   ]
  },
  {
   "cell_type": "code",
   "execution_count": 20,
   "id": "5dfb51df-1a68-4a88-a260-dc10bb4e1f17",
   "metadata": {},
   "outputs": [
    {
     "name": "stdout",
     "output_type": "stream",
     "text": [
      "False\n",
      "['b', 'b', 'b', 'b', 'b']\n"
     ]
    }
   ],
   "source": [
    "print(actualWord == guess)\n",
    "\n",
    "for gcNum, guessChar  in enumerate(guess):\n",
    "    for acNum, acChar in enumerate(actualWord):\n",
    "        if (guessChar == acChar and gcNum == acNum):\n",
    "            gylist[acNum] = 'g'\n",
    "\n",
    "for gcNum, guessChar  in enumerate(guess):\n",
    "    for acNum, acChar in enumerate(actualWord):\n",
    "        if (guessChar == acChar and gcNum == acNum):\n",
    "            gylist[acNum] = 'g'\n",
    "\n",
    "print(gylist)\n",
    "                "
   ]
  },
  {
   "cell_type": "code",
   "execution_count": null,
   "id": "d4eb7332-5b27-4385-ab62-fd7cc9013e03",
   "metadata": {},
   "outputs": [],
   "source": []
  }
 ],
 "metadata": {
  "kernelspec": {
   "display_name": "Python 3 (ipykernel)",
   "language": "python",
   "name": "python3"
  },
  "language_info": {
   "codemirror_mode": {
    "name": "ipython",
    "version": 3
   },
   "file_extension": ".py",
   "mimetype": "text/x-python",
   "name": "python",
   "nbconvert_exporter": "python",
   "pygments_lexer": "ipython3",
   "version": "3.11.6"
  }
 },
 "nbformat": 4,
 "nbformat_minor": 5
}
