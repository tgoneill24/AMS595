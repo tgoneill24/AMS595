{
 "cells": [
  {
   "cell_type": "code",
   "execution_count": 8,
   "id": "387b226b-c084-4d33-adfa-5ce3c77a47a7",
   "metadata": {},
   "outputs": [
    {
     "name": "stdin",
     "output_type": "stream",
     "text": [
      "Guess a five-letter word:  snipe\n"
     ]
    }
   ],
   "source": [
    "actualWord = \"sassy\"\n",
    "guess = input(\"Guess a five-letter word: \")\n",
    "gylist = ['b','b','b','b','b']"
   ]
  },
  {
   "cell_type": "code",
   "execution_count": 14,
   "id": "5dfb51df-1a68-4a88-a260-dc10bb4e1f17",
   "metadata": {},
   "outputs": [
    {
     "name": "stdout",
     "output_type": "stream",
     "text": [
      "['g', 'b', 'g', 'g', 'b']\n"
     ]
    }
   ],
   "source": [
    "actualWord = \"sassy\"\n",
    "guess = \"snsss\"\n",
    "gylist = ['b','b','b','b','b']\n",
    "# Find all green letters\n",
    "for gcNum, guessChar  in enumerate(guess):\n",
    "    for acNum, acChar in enumerate(actualWord):\n",
    "        if (guessChar == acChar and gcNum == acNum):\n",
    "            gylist[gcNum] = 'g'\n",
    "\n",
    "for acNum, acChar in enumerate(actualWord):\n",
    "    if (gylist[acNum] != 'g'):\n",
    "        for gcNum, guessChar  in enumerate(guess):\n",
    "            if (guessChar == acChar and gylist[gcNum] != 'g'):\n",
    "                gylist[gcNum] = 'y'\n",
    "    \n",
    "                # To prevent guess letters from being marked yellow for the same character, break inner-loop\n",
    "                break\n",
    "\n",
    "print(gylist)\n",
    "                "
   ]
  },
  {
   "cell_type": "code",
   "execution_count": null,
   "id": "7e95359b-e037-484f-874f-35c7dcd79418",
   "metadata": {},
   "outputs": [],
   "source": []
  }
 ],
 "metadata": {
  "kernelspec": {
   "display_name": "Python 3 (ipykernel)",
   "language": "python",
   "name": "python3"
  },
  "language_info": {
   "codemirror_mode": {
    "name": "ipython",
    "version": 3
   },
   "file_extension": ".py",
   "mimetype": "text/x-python",
   "name": "python",
   "nbconvert_exporter": "python",
   "pygments_lexer": "ipython3",
   "version": "3.11.6"
  }
 },
 "nbformat": 4,
 "nbformat_minor": 5
}
