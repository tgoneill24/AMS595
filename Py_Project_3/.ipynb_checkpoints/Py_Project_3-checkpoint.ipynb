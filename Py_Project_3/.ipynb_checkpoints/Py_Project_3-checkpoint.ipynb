{
 "cells": [
  {
   "cell_type": "markdown",
   "metadata": {
    "id": "xq__bChjD04e"
   },
   "source": [
    "# Python Assignment 3"
   ]
  },
  {
   "cell_type": "markdown",
   "metadata": {
    "id": "y7j2V0UDMYLG"
   },
   "source": [
    "⏱⏱⏱**Due: 11/02/2023 11:59 PM** ⏱⏱⏱\n",
    "\n",
    "Please submit your notebook files and upload them to your Git repository. Don't forget to include a link to your Git repository when submitting this file on Brightspace. **Please include all outputs in your notebook, including plots, printouts, etc..**\n",
    "\n",
    "Collaboration is permitted and encouraged; however, it's essential to independently produce and submit your own work. If you collaborate with others, please ensure that you provide their names in the designated section.\n",
    "\n",
    "Collaborators:_____"
   ]
  },
  {
   "cell_type": "markdown",
   "metadata": {
    "id": "SUS30Ew9D04n"
   },
   "source": [
    "##**For Questions 2a and 2b, you can choose one of them to complete, if you completed both, only Questions 2a will be graded.**\n",
    "\n",
    "**This assignment is out of 150 points; surplus points can be applied to other assignments (including Matlab and C/C++). However, it cannot be applied to your final project grade, and your assignment grade will not excced 75% of your total grade.**"
   ]
  },
  {
   "cell_type": "markdown",
   "metadata": {
    "id": "KR0Fl4yAQYad"
   },
   "source": [
    "## 1. Good presentation of your code and outputs; submitting your files to Github (10 pts)"
   ]
  },
  {
   "cell_type": "markdown",
   "metadata": {
    "id": "9WPZWhYQkptT"
   },
   "source": [
    "Ensure thorough and clear comments within your code to explain its functionality.\n",
    "\n",
    "Enhance your plots by adding titles, legends, and axis labels where appropriate to provide clarity.\n",
    "\n",
    "If necessary, employ LaTex notation to present mathematical explanations within the notebook.\n",
    "\n",
    "Divide your code into multiple blocks or cells in Jupyter Notebook and provide descriptive explanations for each block to improve readability.\n",
    "\n",
    "As part of your submission, **include the notebook files and upload them to your Git repository. Additionally, remember to provide a link to your Git repository when submitting the files on Brightspace.** Do not submit a compressed file (.rar, .zip, etc..), submit files separately.\n",
    "\n",
    "If you are tasked with implementing a numerical algorithm, it is expected that you would not rely on pre-existing methods. For example, if you were asked to solve $Ax=b$, you should write your own program to solve, not just by calling numpy.linalg.solve.\n",
    "\n"
   ]
  },
  {
   "cell_type": "markdown",
   "metadata": {
    "id": "U5SL2j0sqnAJ"
   },
   "source": [
    "## 2a. Numerical Integration (30 pts)"
   ]
  },
  {
   "cell_type": "markdown",
   "metadata": {
    "id": "OxwdE468rNAR"
   },
   "source": [
    "For a domain discretized into $N$ equally spaced panels:\n",
    "$$\n",
    "\\Delta x=\\frac{b-a}{N}.\n",
    "$$\n",
    "The approximation to the integral is\n",
    "$$\\begin{aligned}\n",
    "\\int_a^b f(x) d x & \\approx \\frac{\\Delta x}{2} \\sum_{k=1}^N\\left(f\\left(x_{k-1}\\right)+f\\left(x_k\\right)\\right) \\\\\n",
    "& =\\frac{\\Delta x}{2}\\left(f\\left(x_0\\right)+2 f\\left(x_1\\right)+2 f\\left(x_2\\right)+2 f\\left(x_3\\right)+\\cdots+2 f\\left(x_{N-1}\\right)+f\\left(x_N\\right)\\right) \\\\\n",
    "& =\\Delta x\\left(\\sum_{k=1}^{N-1} f\\left(x_k\\right)+\\frac{f\\left(x_N\\right)+f\\left(x_0\\right)}{2}\\right) .\n",
    "\\end{aligned}$$\n",
    "This is the trapezoid rule scheme.\n",
    "\n",
    "\n",
    "Given the function $f(x) = 3x^2 + 2x +2$, your tasks are:\n",
    "\n",
    "1. Carry out the integration symbolically using the SymPy library. Output the result (i.e. print out the result).\n",
    "2. Implement the trapezoid rule to estimate the integral $\\int_{-4}^6 f(x) dx$ using the following values of $N = 10, 20, 40, 80, 160, 320, 640, 1280$. Output the results (i.e. print out the results).\n",
    "3. Plot the absolute error (absolute difference between the numerical approximation and the SymPy result) against N.\n",
    "\n",
    "\n",
    "\n"
   ]
  },
  {
   "cell_type": "code",
   "execution_count": 1,
   "metadata": {},
   "outputs": [],
   "source": [
    "# Use lecture 10172023"
   ]
  },
  {
   "cell_type": "code",
   "execution_count": 21,
   "metadata": {},
   "outputs": [],
   "source": [
    "from sympy import *\n",
    "import matplotlib.pyplot as plt"
   ]
  },
  {
   "cell_type": "code",
   "execution_count": 65,
   "metadata": {},
   "outputs": [
    {
     "name": "stdout",
     "output_type": "stream",
     "text": [
      "x**3 + x**2 + 2*x\n",
      "SymPy Result: 320\n"
     ]
    }
   ],
   "source": [
    "# Declare a symbol x, create the function f and integrate it\n",
    "x = symbols(\"x\")\n",
    "f = 3*x**2+2*x+2\n",
    "print(integrate(f, x))\n",
    "print(\"SymPy Result: \" + str(integrate(f, (x, -4, 6))))"
   ]
  },
  {
   "cell_type": "code",
   "execution_count": 66,
   "metadata": {},
   "outputs": [
    {
     "name": "stdout",
     "output_type": "stream",
     "text": [
      "N=10: 325.0\n",
      "N=20: 321.25\n",
      "N=40: 320.3125\n",
      "N=80: 320.078125\n",
      "N=160: 320.01953125\n",
      "N=320: 320.0048828125\n",
      "N=640: 320.001220703125\n",
      "N=1280: 320.00030517578125\n"
     ]
    }
   ],
   "source": [
    "# Define f as a Python function\n",
    "def f(x):\n",
    "    return 3*x**2+2*x+2\n",
    "\n",
    "# Function to calculate the trapezoid approximation to the integral\n",
    "def trapApprox(a, b, N):\n",
    "    dx = (b-a)/N\n",
    "    sum = (f(a)+f(b))/2\n",
    "    for k in range(1,N):\n",
    "        sum += f(a + k*dx)\n",
    "    sum *= dx\n",
    "    return sum\n",
    "\n",
    "# Set integration parameters\n",
    "a=-4\n",
    "b=6\n",
    "\n",
    "# Initialize lists for plots\n",
    "Nvals = [10,20,40,80,160,320,640,1280]\n",
    "Yvals=[]\n",
    "\n",
    "# Calculate approximations\n",
    "for N in Nvals:\n",
    "    Y=trapApprox(a,b,N)\n",
    "    print(\"N=\"+str(N)+\": \"+str(Y))\n",
    "    Yvals.append(abs(Y-320))"
   ]
  },
  {
   "cell_type": "code",
   "execution_count": 67,
   "metadata": {},
   "outputs": [
    {
     "data": {
      "text/plain": [
       "Text(0.5, 1.0, 'Absolute Error of Trapezoid Approximation vs. N')"
      ]
     },
     "execution_count": 67,
     "metadata": {},
     "output_type": "execute_result"
    },
    {
     "data": {
      "image/png": "[encoded data removed]",
      "text/plain": [
       "<Figure size 640x480 with 1 Axes>"
      ]
     },
     "metadata": {},
     "output_type": "display_data"
    }
   ],
   "source": [
    "# Plot error vs. N\n",
    "plt.plot(Nvals, Yvals)\n",
    "plt.xlabel(\"N\")\n",
    "plt.ylabel(\"Absolute Error\")\n",
    "plt.title(\"Absolute Error of Trapezoid Approximation vs. N\")"
   ]
  },
  {
   "cell_type": "markdown",
   "metadata": {
    "id": "uzMa1xSEwhe3"
   },
   "source": [
    "## 2b. Numerical Differentiation (30 pts)"
   ]
  },
  {
   "cell_type": "markdown",
   "metadata": {
    "id": "FoA2lb0VxDk4"
   },
   "source": [
    "Your tasks:\n",
    "1. Find the closed form expression of $f_{xy}(x,y)$, i.e. $\\frac{d^2}{dxdy}f(x,y)$, for $f(x,y) = \\left(sin^2\\left(x\\right)e^xcos(y)\\right)$ using `sympy`. Output the result.\n",
    "2. Find $f_{xy}(2,3)$ with `sympy` and take 15 significant digits, use it as the \"groud truth solution\". Output the result.\n",
    "3. Approximate $f_{xy}(2,3)$ using central difference approximation for the following values of $h = 0.1, 0.01, 0.001, 0.0001$. Output the results.\n",
    "4. Plot the absolute error (absolute difference between the numerical approximation and the SymPy result) against the step size $h$. `plt.gca().invert_xaxis() ` might help.\n",
    "\n",
    "Recall from the lecture:\n",
    "$$f_{x y}(x, y) \\approx \\frac{f(x+h, y+k)-f(x+h, y-k)-f(x-h, y+k)+f(x-h, y-k)}{4 h k}.$$\n",
    "For simplicity, we set $k = h$."
   ]
  },
  {
   "cell_type": "code",
   "execution_count": 32,
   "metadata": {},
   "outputs": [],
   "source": [
    "# Use lecture 10192023 and 10172023"
   ]
  },
  {
   "cell_type": "code",
   "execution_count": 58,
   "metadata": {},
   "outputs": [],
   "source": [
    "from sympy import *\n",
    "import math"
   ]
  },
  {
   "cell_type": "code",
   "execution_count": 68,
   "metadata": {},
   "outputs": [],
   "source": [
    "# Define variables and function\n",
    "x, y = symbols(\"x,y\")\n",
    "f = sin(x)**2*exp(x)*cos(y)"
   ]
  },
  {
   "cell_type": "code",
   "execution_count": 69,
   "metadata": {},
   "outputs": [
    {
     "name": "stdout",
     "output_type": "stream",
     "text": [
      "-(sin(x) + 2*cos(x))*exp(x)*sin(x)*sin(y)\n",
      "-0.07301219665940617\n"
     ]
    }
   ],
   "source": [
    "# Calculate fxy and evaluate it at (2,3)\n",
    "fxy=diff(f, x, y)\n",
    "print(fxy)\n",
    "fxy=lambdify([x,y], fxy)\n",
    "print(fxy(2,3))"
   ]
  },
  {
   "cell_type": "code",
   "execution_count": 70,
   "metadata": {},
   "outputs": [
    {
     "name": "stdout",
     "output_type": "stream",
     "text": [
      "h=0.1: -0.06885821524436063\n",
      "h=0.01: -0.07297034655850965\n",
      "h=0.001: -0.0730117781788664\n",
      "h=0.0001: -0.07301219628885747\n"
     ]
    }
   ],
   "source": [
    "# Define f as a Python function\n",
    "def f(x, y):\n",
    "    return math.sin(x)**2*math.exp(x)*math.cos(y)\n",
    "\n",
    "def finDiff(x, y, h):\n",
    "    return (f(x+h, y+h)-f(x+h, y-h)-f(x-h, y+h)+f(x-h, y-h))/(4*h**2)\n",
    "\n",
    "# Set differentiation parameters\n",
    "x=2\n",
    "y=3\n",
    "\n",
    "# Initialize lists for plots\n",
    "hvals = [.1,.01,.001,.0001]\n",
    "Yvals=[]\n",
    "\n",
    "# Calculate approximations\n",
    "for h in hvals:\n",
    "    Y=finDiff(x,y,h)\n",
    "    print(\"h=\"+str(h)+\": \"+str(Y))\n",
    "    Yvals.append(abs(Y-fxy(2,3)))"
   ]
  },
  {
   "cell_type": "code",
   "execution_count": 72,
   "metadata": {},
   "outputs": [
    {
     "data": {
      "image/png": "[encoded data removed]",
      "text/plain": [
       "<Figure size 640x480 with 1 Axes>"
      ]
     },
     "metadata": {},
     "output_type": "display_data"
    }
   ],
   "source": [
    "# Plot error vs. h\n",
    "plt.plot(hvals, Yvals)\n",
    "plt.xlabel(\"h\")\n",
    "plt.ylabel(\"Absolute Error\")\n",
    "plt.title(\"Absolute Error of Finite Difference Method vs. h\")\n",
    "plt.gca().invert_xaxis()"
   ]
  },
  {
   "cell_type": "markdown",
   "metadata": {
    "id": "aCgIDqeLBPjj"
   },
   "source": [
    "## 3. Pandas I (15 pts)"
   ]
  },
  {
   "cell_type": "markdown",
   "metadata": {
    "id": "O1w1avrtBYD5"
   },
   "source": [
    "1. Create a 3x4 (3 rows by 4 columns) pandas DataFrame with the columns named after the following Long Island towns: Hempstead, Babylon, Islip, and Brookhaven. The rows represent 'Population in 2099', 'Population in 2300', 'Population in 2400'. Fill each of the 12 cells in the DataFrame with a random integer from 1000 to 10000, inclusive. `np.random.randint()` might be helpful.\n",
    "For Example:\n",
    "\n",
    "```\n",
    "                    Hempstead  Babylon  Islip  Brookhaven\n",
    "Population in 2099       2931     8043   8414        8661\n",
    "Population in 2300       5444     9227   7393        8007\n",
    "Population in 2400       1660     7977   4730        2940\n",
    "```\n",
    "\n",
    "\n",
    "\n",
    "2. Output the following:\n",
    "  - The entire DataFrame.\n",
    "  - The value in the cell of row #1 (indexing starts with 0) under the Hempstead column.\n",
    "\n",
    "3. Add a new column named Riverhead. Populate this column with the sum of the respective row values from the Islip and Brookhaven columns. Output the entire DataFrame again."
   ]
  },
  {
   "cell_type": "code",
   "execution_count": 2,
   "metadata": {},
   "outputs": [],
   "source": [
    "# Use lecture 10242023"
   ]
  },
  {
   "cell_type": "code",
   "execution_count": 76,
   "metadata": {},
   "outputs": [],
   "source": [
    "import pandas as pd\n",
    "import numpy as np"
   ]
  },
  {
   "cell_type": "code",
   "execution_count": 90,
   "metadata": {},
   "outputs": [],
   "source": [
    "# Define columns\n",
    "row_names = pd.Series(['Population in 2099', 'Population in 2300', 'Population in 2400'])\n",
    "pop_hempstead = pd.Series([np.random.randint(1000, 10000) for i in range(3)])\n",
    "pop_babylon = pd.Series([np.random.randint(1000, 10000) for i in range(3)])\n",
    "pop_islip = pd.Series([np.random.randint(1000, 10000) for i in range(3)])\n",
    "pop_brookhaven = pd.Series([np.random.randint(1000, 10000) for i in range(3)])\n",
    "\n",
    "# Combine into DataFrame\n",
    "TownPop = pd.DataFrame({'': row_names, 'Hempstead': pop_hempstead, 'Babylon': pop_babylon, 'Islip': pop_islip, 'Brookhaven': pop_brookhaven })"
   ]
  },
  {
   "cell_type": "code",
   "execution_count": 91,
   "metadata": {},
   "outputs": [
    {
     "name": "stdout",
     "output_type": "stream",
     "text": [
      "                       Hempstead  Babylon  Islip  Brookhaven\n",
      "0  Population in 2099       7125     7003   8828        3484\n",
      "1  Population in 2300       6026     1674   6594        4384\n",
      "2  Population in 2400       8489     4483   2727        9505\n",
      "7125\n"
     ]
    }
   ],
   "source": [
    "# Print the entire DataFrame and then just the value in the cell of row #1 under the Hempstead column\n",
    "print(TownPop)\n",
    "print(TownPop['Hempstead'][0])"
   ]
  },
  {
   "cell_type": "code",
   "execution_count": 92,
   "metadata": {},
   "outputs": [
    {
     "name": "stdout",
     "output_type": "stream",
     "text": [
      "                       Hempstead  Babylon  Islip  Brookhaven  Riverhead\n",
      "0  Population in 2099       7125     7003   8828        3484      12312\n",
      "1  Population in 2300       6026     1674   6594        4384      10978\n",
      "2  Population in 2400       8489     4483   2727        9505      12232\n"
     ]
    }
   ],
   "source": [
    "# Add new column and print DataFrame again\n",
    "TownPop['Riverhead']=TownPop['Islip']+TownPop['Brookhaven']\n",
    "print(TownPop)"
   ]
  },
  {
   "cell_type": "markdown",
   "metadata": {
    "id": "WqHDjQC-KLjo"
   },
   "source": [
    "## 4. Pandas II (15 pts)"
   ]
  },
  {
   "cell_type": "markdown",
   "metadata": {
    "id": "w6kHh8BENzHk"
   },
   "source": [
    "0. Download the cvs file that comes with this assignment, and read it into a dataframe. You can also download this [csv file](https://media.githubusercontent.com/media/datablist/sample-csv-files/main/files/customers/customers-100.csv) with this link.\n",
    "1. Arrange the data in alphabetical order based on the last name. Display the first few rows.\n",
    "2. Count the number of customers whose subscription date is in 2021 (2021-01-01 to 2021-12-31). Report this number (e.g. print)."
   ]
  },
  {
   "cell_type": "code",
   "execution_count": 2,
   "metadata": {},
   "outputs": [],
   "source": [
    "# Use lecture 10242023"
   ]
  },
  {
   "cell_type": "code",
   "execution_count": 111,
   "metadata": {},
   "outputs": [],
   "source": [
    "df = pd.read_csv(\"customers-100.csv\")"
   ]
  },
  {
   "cell_type": "code",
   "execution_count": 112,
   "metadata": {},
   "outputs": [
    {
     "name": "stdout",
     "output_type": "stream",
     "text": [
      "    Index      Customer Id First Name Last Name                Company  \\\n",
      "67     68  a014Ec1b9FccC1E        Tom  Alvarado    Donaldson-Dougherty   \n",
      "96     97  CeD220bdAaCfaDf       Lynn  Atkinson  Ware, Burns and Oneal   \n",
      "92     93  aAb6AFc7AfD0fF3     Collin     Ayers          Lamb-Peterson   \n",
      "0       1  DD37Cf93aecA6Dc     Sheryl    Baxter        Rasmussen Group   \n",
      "15     16  8cad0b4CBceaeec    Miranda   Beasley     Singleton and Sons   \n",
      "\n",
      "                City    Country             Phone 1                Phone 2  \\\n",
      "67  South Sophiaberg   Kiribati  (585)606-2980x2258      730-797-3594x5614   \n",
      "96      New Bradview  Sri Lanka     +1-846-706-2218           605.413.3198   \n",
      "92      South Lonnie   Anguilla    404-645-5351x012  001-257-582-8850x8516   \n",
      "0       East Leonard      Chile        229.077.5154       397.884.0519x718   \n",
      "15      Desireeshire       Oman    540.085.3135x185  +1-600-462-6432x21881   \n",
      "\n",
      "                            Email Subscription Date  \\\n",
      "67  nicholsonnina@montgomery.info        2020-08-18   \n",
      "96              vkemp@ferrell.com        2021-07-10   \n",
      "92       dudleyemily@gonzales.biz        2021-06-29   \n",
      "0        zunigavanessa@smith.info        2020-08-24   \n",
      "15        vduncan@parks-hardy.com        2022-04-12   \n",
      "\n",
      "                       Website  \n",
      "67     http://odom-massey.com/  \n",
      "96  https://novak-allison.com/  \n",
      "92        http://www.ruiz.com/  \n",
      "0   http://www.stephenson.com/  \n",
      "15          http://acosta.org/  \n"
     ]
    }
   ],
   "source": [
    "print(df.sort_values('Last Name').head())"
   ]
  },
  {
   "cell_type": "code",
   "execution_count": 114,
   "metadata": {},
   "outputs": [
    {
     "name": "stdout",
     "output_type": "stream",
     "text": [
      "43\n"
     ]
    }
   ],
   "source": [
    "print(len(df[(df['Subscription Date'] >= '2021-01-01') & (df['Subscription Date'] <= '2021-12-31')]))"
   ]
  },
  {
   "cell_type": "markdown",
   "metadata": {
    "id": "aBpXtK8VvApb"
   },
   "source": [
    "## 5. LU decomposition (50 + 30 pts)\n"
   ]
  },
  {
   "cell_type": "markdown",
   "metadata": {
    "id": "ryafNieevrgZ"
   },
   "source": [
    "Part A (50 points)\n",
    "1. Write a function `LUdecomposition()` that takes as input a matrix $A\\in \\mathbb{R}^{n \\times n}$. Perform Gaussian Elimination to have this function return two matrices $L$ and $U$ such that $A=LU$.\n",
    "2. Your function should raise any relevant errors, for example, raise an error if a pure LU decomposition does not exist for $A$ (meaning that you have to perform pivoting, i.e., permutation of rows).\n",
    "3. Create several random matrices for the purpose of testing your function. Obtain the $L$ and $U$ matrices, and for each random matrix obtain its L and U matrices and perform a matrix multiplication (`np.matmul()`) to determine whether the outcome closely resembles the original matrix $A$, allowing for slight differences attributable to precision errors.\n",
    "\n",
    "\n",
    "Note: LU decomposition with Gaussian elimination should be covered in your undergraduate linear algebra class. It is also covered in AMS 510. If you do not know how, this 10 minute [video](https://www.youtube.com/watch?v=UlWcofkUDDU&ab_channel=Mathispower4u) explains it very well.\n",
    "\n",
    "Part B (30 bonus points)\n",
    "4. Not all square matrices have a pure LU decomposition. However, PLU decomposition always exists. Write another function `pivoting()` that takes as input a matrix $A$ and return the permutation/pivoting matrix $P$ such that $PA$ always has a pure LU decomposition.\n",
    "5. Find an example $A$ for which `LUdecomposition()` raises an error. Then, use `pivoting()` to find $P$, and find the pure LU decomposition of $PA$. Verify that indeed $PA = LU$ with matrix multiplication (`np.matmul()`).\n",
    "\n",
    "\n",
    "Hint: Please do not print out a giant matrix and visually examine the outcomes. Think of a way to verify your results and output a boolean value.\n"
   ]
  },
  {
   "cell_type": "markdown",
   "metadata": {
    "id": "QlP_giLsQRPM"
   },
   "source": [
    "Fact: LU and PLU decompositions are not unique."
   ]
  },
  {
   "cell_type": "code",
   "execution_count": 133,
   "metadata": {},
   "outputs": [],
   "source": [
    "import copy"
   ]
  },
  {
   "cell_type": "code",
   "execution_count": 168,
   "metadata": {},
   "outputs": [],
   "source": [
    "def LUdecomposition(A):\n",
    "\n",
    "    # Verify that the input is valid\n",
    "    if isinstance(A,np.ndarray):\n",
    "        if (A.ndim>2):\n",
    "            print(\"A is not a 2D matrix\")\n",
    "            return False\n",
    "        else:\n",
    "            if (A.shape[0]==A.shape[1]):\n",
    "                n = A.shape[0]\n",
    "\n",
    "                # Convert values of A to floats\n",
    "                A = A.astype(float)\n",
    "            else:\n",
    "                print(\"A is not a square matrix\")\n",
    "                return False\n",
    "    else:\n",
    "        print(\"A is not a matrix\")\n",
    "        return False\n",
    "    \n",
    "    # Copy A to matrix U and start L as identity matrix\n",
    "    U = copy.deepcopy(A)\n",
    "    L = np.eye(n)\n",
    "    \n",
    "    # Convert U to echelon form and perform inverse operations on L\n",
    "    for j in range(n):\n",
    "    \n",
    "        # If diagonal entry is 0, a pure LU decomposition does not exist\n",
    "        if (U[j][j]==0):\n",
    "            print(U)\n",
    "            print(\"No pure LU Decomposition\")\n",
    "            return False\n",
    "        \n",
    "        # Save variables to reduce computations\n",
    "        jDiag = U[j][j];\n",
    "        jRow = U[j];\n",
    "        \n",
    "        for i in range(j+1, n):\n",
    "\n",
    "            # Perform elementary operation on U\n",
    "            piv = copy.copy(U[i][j])\n",
    "            U[i] = U[i] - piv/jDiag*jRow\n",
    "\n",
    "            # Multiply L by the inverse of this elementary operation\n",
    "            L[:, j] = L[:, j] + piv/jDiag*L[:, i]\n",
    "        \n",
    "    return L, U"
   ]
  },
  {
   "cell_type": "code",
   "execution_count": 178,
   "metadata": {},
   "outputs": [
    {
     "name": "stdout",
     "output_type": "stream",
     "text": [
      "A=[[0.148842   0.74966223]\n",
      " [0.01963737 0.66199831]]\n",
      "L=[[1.         0.        ]\n",
      " [0.13193431 1.        ]]\n",
      "U=[[0.148842   0.74966223]\n",
      " [0.         0.56309214]]\n",
      "LU=[[0.148842   0.74966223]\n",
      " [0.01963737 0.66199831]]\n",
      "Are LU and A close? True\n",
      "A=[[0.81365585 0.32755696 0.25008829]\n",
      " [0.73051461 0.31470573 0.56580633]\n",
      " [0.38234696 0.07326285 0.85601188]]\n",
      "L=[[ 1.          0.          0.        ]\n",
      " [ 0.89781769  1.          0.        ]\n",
      " [ 0.46991238 -3.91187976  1.        ]]\n",
      "U=[[0.81365585 0.32755696 0.25008829]\n",
      " [0.         0.0206193  0.34127264]\n",
      " [0.         0.         2.07350983]]\n",
      "LU=[[0.81365585 0.32755696 0.25008829]\n",
      " [0.73051461 0.31470573 0.56580633]\n",
      " [0.38234696 0.07326285 0.85601188]]\n",
      "Are LU and A close? True\n",
      "A=[[0.57262108 0.4137705  0.34327451 0.91577932]\n",
      " [0.065929   0.19983831 0.29019875 0.58770964]\n",
      " [0.42097514 0.69125337 0.34584647 0.80816709]\n",
      " [0.98362544 0.02483622 0.00492286 0.63265471]]\n",
      "L=[[ 1.          0.          0.          0.        ]\n",
      " [ 0.11513547  1.          0.          0.        ]\n",
      " [ 0.73517226  2.54312886  1.          0.        ]\n",
      " [ 1.71775973 -4.5067554  -1.00178987  1.        ]]\n",
      "U=[[ 0.57262108  0.4137705   0.34327451  0.91577932]\n",
      " [ 0.          0.15219865  0.25067568  0.48227095]\n",
      " [ 0.          0.         -0.54401997 -1.09156564]\n",
      " [ 0.          0.          0.          0.1395237 ]]\n",
      "LU=[[0.57262108 0.4137705  0.34327451 0.91577932]\n",
      " [0.065929   0.19983831 0.29019875 0.58770964]\n",
      " [0.42097514 0.69125337 0.34584647 0.80816709]\n",
      " [0.98362544 0.02483622 0.00492286 0.63265471]]\n",
      "Are LU and A close? True\n",
      "A=[[0.95902791 0.79458167 0.85095862 0.64453866 0.54684542]\n",
      " [0.51759124 0.46549248 0.48572496 0.83155163 0.27882801]\n",
      " [0.63583673 0.42567262 0.75961554 0.72649429 0.97934865]\n",
      " [0.35694709 0.21419507 0.126003   0.19745743 0.99855677]\n",
      " [0.75160218 0.60753678 0.91636911 0.29450539 0.48669447]]\n",
      "L=[[ 1.          0.          0.          0.          0.        ]\n",
      " [ 0.53970404  1.          0.          0.          0.        ]\n",
      " [ 0.66300128 -2.7592432   1.          0.          0.        ]\n",
      " [ 0.37219677 -2.22476883 -0.49119896  1.          0.        ]\n",
      " [ 0.78371252 -0.41433418  0.97015675 -0.8687865   1.        ]]\n",
      "U=[[ 9.59027909e-01  7.94581666e-01  8.50958621e-01  6.44538661e-01\n",
      "   5.46845422e-01]\n",
      " [ 0.00000000e+00  3.66535433e-02  2.64591565e-02  4.83691511e-01\n",
      "  -1.63066764e-02]\n",
      " [ 0.00000000e+00  0.00000000e+00  2.68436132e-01  1.63378684e+00\n",
      "   5.71795350e-01]\n",
      " [ 0.00000000e+00 -1.38777878e-17  0.00000000e+00  1.83617842e+00\n",
      "   1.03960937e+00]\n",
      " [ 0.00000000e+00 -1.20568348e-17  0.00000000e+00  0.00000000e+00\n",
      "   3.99835926e-01]]\n",
      "LU=[[0.95902791 0.79458167 0.85095862 0.64453866 0.54684542]\n",
      " [0.51759124 0.46549248 0.48572496 0.83155163 0.27882801]\n",
      " [0.63583673 0.42567262 0.75961554 0.72649429 0.97934865]\n",
      " [0.35694709 0.21419507 0.126003   0.19745743 0.99855677]\n",
      " [0.75160218 0.60753678 0.91636911 0.29450539 0.48669447]]\n",
      "Are LU and A close? True\n"
     ]
    }
   ],
   "source": [
    "# Test out square matrices of sizes 2 through 6\n",
    "for n in range(2,6):\n",
    "    # Generate random matrix\n",
    "    A = np.random.random((n,n))\n",
    "\n",
    "    # Get results\n",
    "    print(\"A=\"+str(A))\n",
    "    L,U = LUdecomposition(A)\n",
    "    print(\"L=\"+str(L))\n",
    "    print(\"U=\"+str(U))\n",
    "    LU = np.matmul(L,U)\n",
    "    print(\"LU=\"+str(LU))\n",
    "\n",
    "    # Compare LU to A\n",
    "    print(\"Are LU and A close? \" +str(np.allclose(A,LU)))"
   ]
  },
  {
   "cell_type": "markdown",
   "metadata": {
    "id": "X_4ITuoU53KF"
   },
   "source": [
    "## 6. Markov Chain (30 pts)"
   ]
  },
  {
   "cell_type": "markdown",
   "metadata": {
    "id": "X2-wBoxIWLQs"
   },
   "source": [
    "**BACKGROUND:** Consider a Markov chain transition matrix $P$ on a set of $n$ states, where $P_{i j}$ corresponds to the probability $\\left(0 \\leq P_{i j} \\leq 1\\right)$ to go from state $i$ to the state $j$, and each row is normalized so that\n",
    "$$\n",
    "\\sum_{j=1}^n P_{i j}=1 .\n",
    "$$\n",
    "\n",
    "Let $p$ be a size- $n$ vector composed of the probability distribution over the $n$ states, where\n",
    "$$\n",
    "\\sum_{j=1}^n p_j=1 .\n",
    "$$\n",
    "\n",
    "The transition rule corresponding to the transition matrix $P$ is $\\hat{p}=P^T p$, where $\\hat{p}$ corresponds to a new probability distribution and\n",
    "$$\n",
    "\\sum_{j=1}^n \\hat{p}_j=1 .\n",
    "$$\n",
    "TASK: Write a program that works with 5 states `only use the numpy library`. In particular,\n",
    "0. Fix the random seed to be the last digit of your id: `numpy.random.seed()`.\n",
    "\n",
    "1. Construct a random $5 \\times 5$ matrix $P$, and normalize each row so that\n",
    "$$\n",
    "\\sum_{j=1}^5 P_{i j}=1 .\n",
    "$$\n",
    "\n",
    "2. Construct a random size-5 vector $p$ and normalize it so that\n",
    "$$\n",
    "\\sum_{j=1}^5 p_j=1 .\n",
    "$$\n",
    "Apply the transition rule 50 times to obtain $p_{50}$.\n",
    "3. Compute the eigenvector $v$ of $P^T$ corresponding to the eigenvalue 1 (and numerically, the eigenvalue closest to $1)$, and then scale the eigenvector so that\n",
    "$$\n",
    "\\sum_{j=1}^5 v_j=1 .\n",
    "$$\n",
    "This scaled eigenvector is known as the stationary distribution.\n",
    "\n",
    "4. Compute the component wise difference between $p_{50}$ and the stationary distribution. Do they match with each other within $1 \\mathrm{e}-5$ ?\n",
    "\n",
    "HINTS: You may find the following functions useful in your implementation:\n",
    "- np.random.rand\n",
    "- np.dot\n",
    "- np.linalg.eig"
   ]
  },
  {
   "cell_type": "code",
   "execution_count": 224,
   "metadata": {},
   "outputs": [],
   "source": [
    "# Set the random seed\n",
    "np.random.seed(2)\n",
    "\n",
    "# Create a random 5x5 matrix\n",
    "P=np.random.random((5,5))\n",
    "\n",
    "# Normalize so the sums of rows are 1\n",
    "for i in range(5):\n",
    "    P[i] /= np.sum(P[i])"
   ]
  },
  {
   "cell_type": "code",
   "execution_count": 225,
   "metadata": {},
   "outputs": [],
   "source": [
    "# Create a random size-5 vector\n",
    "p=np.random.random((5))\n",
    "\n",
    "# Normalize so the sum of the elements is 1\n",
    "p /= np.sum(p)"
   ]
  },
  {
   "cell_type": "code",
   "execution_count": 226,
   "metadata": {},
   "outputs": [
    {
     "name": "stdout",
     "output_type": "stream",
     "text": [
      "[0.27315399 0.15136211 0.22991378 0.2204666  0.12510351]\n"
     ]
    }
   ],
   "source": [
    "# Apply transition rule 50 times and output result\n",
    "for i in range(50):\n",
    "    p = np.matmul(P.T,p)\n",
    "print(p)"
   ]
  },
  {
   "cell_type": "code",
   "execution_count": 250,
   "metadata": {},
   "outputs": [
    {
     "name": "stdout",
     "output_type": "stream",
     "text": [
      "[0.27315399 0.15136211 0.22991378 0.2204666  0.12510351]\n"
     ]
    }
   ],
   "source": [
    "# Get the eigenvector of P^T corresponding to eigenvalue 1\n",
    "# We know 1 is the largest eigenvalue so we just access the first eigenvector\n",
    "v = np.linalg.eig(P.T)[1]\n",
    "v = v[:,0]\n",
    "\n",
    "# Normalize and print v\n",
    "v /= np.sum(v)\n",
    "print(v)"
   ]
  },
  {
   "cell_type": "code",
   "execution_count": 254,
   "metadata": {},
   "outputs": [
    {
     "name": "stdout",
     "output_type": "stream",
     "text": [
      "[8.32667268e-16 3.60822483e-16 5.55111512e-16 5.55111512e-16\n",
      " 4.44089210e-16]\n"
     ]
    }
   ],
   "source": [
    "# Compute difference with p50\n",
    "print(p - v)"
   ]
  },
  {
   "cell_type": "markdown",
   "metadata": {},
   "source": [
    "They match with each other within 1e-5. "
   ]
  }
 ],
 "metadata": {
  "accelerator": "GPU",
  "anaconda-cloud": {},
  "colab": {
   "collapsed_sections": [
    "KR0Fl4yAQYad",
    "U5SL2j0sqnAJ",
    "29VDnBBE5pUV",
    "uzMa1xSEwhe3",
    "YCD9beX75Yp7",
    "aCgIDqeLBPjj",
    "WqHDjQC-KLjo",
    "wzeYQOW0OCH3",
    "X_4ITuoU53KF",
    "yoMb8G9jXWcu"
   ],
   "gpuType": "T4",
   "provenance": []
  },
  "kernelspec": {
   "display_name": "Python 3 (ipykernel)",
   "language": "python",
   "name": "python3"
  },
  "language_info": {
   "codemirror_mode": {
    "name": "ipython",
    "version": 3
   },
   "file_extension": ".py",
   "mimetype": "text/x-python",
   "name": "python",
   "nbconvert_exporter": "python",
   "pygments_lexer": "ipython3",
   "version": "3.11.6"
  }
 },
 "nbformat": 4,
 "nbformat_minor": 4
}
