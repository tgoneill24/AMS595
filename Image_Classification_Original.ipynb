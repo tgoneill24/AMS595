{
 "cells": [
  {
   "cell_type": "code",
   "execution_count": 7,
   "id": "1b306701-19c7-4db4-ac9e-68cbac0b812c",
   "metadata": {
    "scrolled": true
   },
   "outputs": [],
   "source": [
    "import numpy as np\n",
    "import h5py\n",
    "import matplotlib.pyplot as plt\n",
    "import scipy\n",
    "from PIL import Image\n",
    "from scipy import ndimage\n",
    "%matplotlib inline\n",
    "\n",
    "# Load data from files\n",
    "\n",
    "train_dataset = h5py.File('train_catvnoncat.h5', \"r\")\n",
    "test_dataset = h5py.File('test_catvnoncat.h5', \"r\")\n",
    "\n",
    "# Split into x and y\n",
    "\n",
    "train_X = np.array(train_dataset[\"train_set_x\"][:])\n",
    "train_Y = np.array(train_dataset[\"train_set_y\"][:])\n",
    "test_X = np.array(test_dataset[\"test_set_x\"][:])\n",
    "test_Y = np.array(test_dataset[\"test_set_y\"][:])\n",
    "classes = np.array(test_dataset[\"list_classes\"][:])\n",
    "\n"
   ]
  }
 ],
 "metadata": {
  "kernelspec": {
   "display_name": "Python 3 (ipykernel)",
   "language": "python",
   "name": "python3"
  },
  "language_info": {
   "codemirror_mode": {
    "name": "ipython",
    "version": 3
   },
   "file_extension": ".py",
   "mimetype": "text/x-python",
   "name": "python",
   "nbconvert_exporter": "python",
   "pygments_lexer": "ipython3",
   "version": "3.11.6"
  }
 },
 "nbformat": 4,
 "nbformat_minor": 5
}
